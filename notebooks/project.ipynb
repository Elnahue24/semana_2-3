{
 "cells": [
  {
   "cell_type": "code",
   "execution_count": 2,
   "metadata": {
    "collapsed": true
   },
   "outputs": [],
   "source": [
    "import re\n",
    "\n",
    "filename = '../data/baby1990.html'\n"
   ]
  },
  {
   "cell_type": "code",
   "execution_count": 3,
   "metadata": {},
   "outputs": [
    {
     "name": "stdout",
     "output_type": "stream",
     "text": [
      "../data/baby1990.html\n"
     ]
    }
   ],
   "source": [
    "print(filename)"
   ]
  },
  {
   "cell_type": "code",
   "execution_count": null,
   "metadata": {},
   "outputs": [],
   "source": [
    "import re\n",
    "\n",
    "def extract_year(data):\n",
    "\n",
    "    year_match = re.search(r'Popularity\\sin\\s(\\d{4})', data)\n",
    "    if year_match:\n",
    "        return year_match.group(1)\n",
    "    return None\n",
    "\n",
    "def extract_names(data):\n",
    "   \n",
    "    names = re.findall(r'<td>(\\d+)</td><td>(\\w+)</td><td>(\\w+)</td>', data)\n",
    "    return names\n",
    "\n",
    "def create_name_dict(names):\n",
    "  \n",
    "    name_dict = {}\n",
    "    for rank, boy_name, girl_name in names:\n",
    "        if boy_name not in name_dict:\n",
    "            name_dict[boy_name] = rank\n",
    "        if girl_name not in name_dict:\n",
    "            name_dict[girl_name] = rank\n",
    "    return name_dict\n",
    "\n",
    "def create_sorted_list(name_dict):\n",
    "   \n",
    "    sorted_names = sorted(name_dict.keys())\n",
    "    return sorted_names\n",
    "\n",
    "def create_formatted_list(year, name_dict):\n",
    "    \n",
    "    formatted_list = [year]\n",
    "    for name in sorted(name_dict.keys()):\n",
    "        formatted_list.append(f\"{name} {name_dict[name]}\")\n",
    "    return formatted_list\n",
    "\n",
    "\n",
    "\n",
    "\n",
    "with open('archivo.html', 'r') as file:\n",
    "    data = file.read()\n",
    "\n",
    "\n",
    "year = extract_year(data)\n",
    "print(f\"Año: {year}\")\n",
    "\n",
    "\n",
    "names = extract_names(data)\n",
    "print(f\"Nombres y Rankings: {names}\")\n",
    "\n",
    "\n",
    "name_dict = create_name_dict(names)\n",
    "print(f\"Diccionario de Nombres: {name_dict}\")\n",
    "\n",
    "\n",
    "sorted_names = create_sorted_list(name_dict)\n",
    "print(f\"Nombres Ordenados: {sorted_names}\")\n",
    "\n",
    "\n",
    "formatted_list = create_formatted_list(year, name_dict)\n",
    "print(f\"Lista Formateada: {formatted_list}\")\n"
   ]
  }
 ],
 "metadata": {
  "kernelspec": {
   "display_name": "Python 3",
   "language": "python",
   "name": "python3"
  },
  "language_info": {
   "codemirror_mode": {
    "name": "ipython",
    "version": 3
   },
   "file_extension": ".py",
   "mimetype": "text/x-python",
   "name": "python",
   "nbconvert_exporter": "python",
   "pygments_lexer": "ipython3",
   "version": "3.12.3"
  }
 },
 "nbformat": 4,
 "nbformat_minor": 0
}
